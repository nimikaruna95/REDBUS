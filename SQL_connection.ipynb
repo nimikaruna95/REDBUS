{
 "cells": [
  {
   "cell_type": "code",
   "execution_count": 1,
   "metadata": {},
   "outputs": [
    {
     "name": "stdout",
     "output_type": "stream",
     "text": [
      "Requirement already satisfied: mysql in c:\\users\\dell\\desktop\\redbus_1\\.venv\\lib\\site-packages (0.0.3)\n",
      "Requirement already satisfied: mysqlclient in c:\\users\\dell\\desktop\\redbus_1\\.venv\\lib\\site-packages (from mysql) (2.2.6)\n",
      "Note: you may need to restart the kernel to use updated packages.\n"
     ]
    }
   ],
   "source": [
    "%pip  install mysql"
   ]
  },
  {
   "cell_type": "code",
   "execution_count": 2,
   "metadata": {},
   "outputs": [],
   "source": [
    "import mysql.connector"
   ]
  },
  {
   "cell_type": "code",
   "execution_count": 3,
   "metadata": {},
   "outputs": [
    {
     "data": {
      "text/html": [
       "<div>\n",
       "<style scoped>\n",
       "    .dataframe tbody tr th:only-of-type {\n",
       "        vertical-align: middle;\n",
       "    }\n",
       "\n",
       "    .dataframe tbody tr th {\n",
       "        vertical-align: top;\n",
       "    }\n",
       "\n",
       "    .dataframe thead th {\n",
       "        text-align: right;\n",
       "    }\n",
       "</style>\n",
       "<table border=\"1\" class=\"dataframe\">\n",
       "  <thead>\n",
       "    <tr style=\"text-align: right;\">\n",
       "      <th></th>\n",
       "      <th>Busname</th>\n",
       "      <th>Bustype</th>\n",
       "      <th>Departing_time</th>\n",
       "      <th>Reaching_time</th>\n",
       "      <th>Duration</th>\n",
       "      <th>Price</th>\n",
       "      <th>Seats_available</th>\n",
       "      <th>Star_rating</th>\n",
       "      <th>Route_links</th>\n",
       "      <th>Route_names</th>\n",
       "      <th>State_name</th>\n",
       "    </tr>\n",
       "  </thead>\n",
       "  <tbody>\n",
       "    <tr>\n",
       "      <th>0</th>\n",
       "      <td>KSRTC (Kerala) - 51</td>\n",
       "      <td>Swift Deluxe Non AC Air Bus (2+2)</td>\n",
       "      <td>19:00</td>\n",
       "      <td>04:30</td>\n",
       "      <td>09h 30m</td>\n",
       "      <td>INR 640</td>\n",
       "      <td>22 Seats available</td>\n",
       "      <td>3.9\\n43</td>\n",
       "      <td>https://www.redbus.in/bus-tickets/bangalore-to...</td>\n",
       "      <td>Bangalore to Kozhikode</td>\n",
       "      <td>Kerala</td>\n",
       "    </tr>\n",
       "    <tr>\n",
       "      <th>1</th>\n",
       "      <td>KSRTC (Kerala) - 789</td>\n",
       "      <td>Super Fast Non AC Seater (2+3)</td>\n",
       "      <td>20:00</td>\n",
       "      <td>03:45</td>\n",
       "      <td>07h 45m</td>\n",
       "      <td>INR 473</td>\n",
       "      <td>14 Seats available</td>\n",
       "      <td>3.8\\n85</td>\n",
       "      <td>https://www.redbus.in/bus-tickets/bangalore-to...</td>\n",
       "      <td>Bangalore to Kozhikode</td>\n",
       "      <td>Kerala</td>\n",
       "    </tr>\n",
       "    <tr>\n",
       "      <th>2</th>\n",
       "      <td>KSRTC (Kerala) - 1585</td>\n",
       "      <td>Swift Deluxe Non AC Air Bus (2+2)</td>\n",
       "      <td>20:40</td>\n",
       "      <td>06:10</td>\n",
       "      <td>09h 30m</td>\n",
       "      <td>INR 640</td>\n",
       "      <td>10 Seats available</td>\n",
       "      <td>3.5\\n64</td>\n",
       "      <td>https://www.redbus.in/bus-tickets/bangalore-to...</td>\n",
       "      <td>Bangalore to Kozhikode</td>\n",
       "      <td>Kerala</td>\n",
       "    </tr>\n",
       "    <tr>\n",
       "      <th>3</th>\n",
       "      <td>KSRTC (Kerala) - 1586</td>\n",
       "      <td>Swift Deluxe Non AC Air Bus (2+2)</td>\n",
       "      <td>21:30</td>\n",
       "      <td>06:55</td>\n",
       "      <td>09h 25m</td>\n",
       "      <td>INR 640</td>\n",
       "      <td>1 Seat available</td>\n",
       "      <td>3.1\\n39</td>\n",
       "      <td>https://www.redbus.in/bus-tickets/bangalore-to...</td>\n",
       "      <td>Bangalore to Kozhikode</td>\n",
       "      <td>Kerala</td>\n",
       "    </tr>\n",
       "    <tr>\n",
       "      <th>4</th>\n",
       "      <td>KSRTC (Kerala) - 2133</td>\n",
       "      <td>Swift Deluxe Non AC Air Bus (2+2)</td>\n",
       "      <td>22:10</td>\n",
       "      <td>07:35</td>\n",
       "      <td>09h 25m</td>\n",
       "      <td>INR 640</td>\n",
       "      <td>1 Seat available</td>\n",
       "      <td>4.3\\n27</td>\n",
       "      <td>https://www.redbus.in/bus-tickets/bangalore-to...</td>\n",
       "      <td>Bangalore to Kozhikode</td>\n",
       "      <td>Kerala</td>\n",
       "    </tr>\n",
       "    <tr>\n",
       "      <th>...</th>\n",
       "      <td>...</td>\n",
       "      <td>...</td>\n",
       "      <td>...</td>\n",
       "      <td>...</td>\n",
       "      <td>...</td>\n",
       "      <td>...</td>\n",
       "      <td>...</td>\n",
       "      <td>...</td>\n",
       "      <td>...</td>\n",
       "      <td>...</td>\n",
       "      <td>...</td>\n",
       "    </tr>\n",
       "    <tr>\n",
       "      <th>7643</th>\n",
       "      <td>True Bus</td>\n",
       "      <td>Volvo Multi Axle A/C Sleeper I-Shift B11R (2+1)</td>\n",
       "      <td>22:30</td>\n",
       "      <td>04:30</td>\n",
       "      <td>06h 00m</td>\n",
       "      <td>INR 1999</td>\n",
       "      <td>36 Seats available</td>\n",
       "      <td>2.8</td>\n",
       "      <td>https://www.redbus.in/bus-tickets/hyderabad-to...</td>\n",
       "      <td>Hyderabad to Nandyal</td>\n",
       "      <td>Andhra Pradesh</td>\n",
       "    </tr>\n",
       "    <tr>\n",
       "      <th>7644</th>\n",
       "      <td>SREE LEKYAA TRAVELS</td>\n",
       "      <td>NON A/C Sleeper (2+1)</td>\n",
       "      <td>21:35</td>\n",
       "      <td>03:30</td>\n",
       "      <td>05h 55m</td>\n",
       "      <td>712</td>\n",
       "      <td>22 Seats available</td>\n",
       "      <td>1.7</td>\n",
       "      <td>https://www.redbus.in/bus-tickets/hyderabad-to...</td>\n",
       "      <td>Hyderabad to Nandyal</td>\n",
       "      <td>Andhra Pradesh</td>\n",
       "    </tr>\n",
       "    <tr>\n",
       "      <th>7645</th>\n",
       "      <td>Dharshini Travels</td>\n",
       "      <td>Non A/C Seater / Sleeper (2+1)</td>\n",
       "      <td>21:00</td>\n",
       "      <td>04:37</td>\n",
       "      <td>07h 37m</td>\n",
       "      <td>356</td>\n",
       "      <td>9 Seats available</td>\n",
       "      <td>2.5\\n9</td>\n",
       "      <td>https://www.redbus.in/bus-tickets/hyderabad-to...</td>\n",
       "      <td>Hyderabad to Nandyal</td>\n",
       "      <td>Andhra Pradesh</td>\n",
       "    </tr>\n",
       "    <tr>\n",
       "      <th>7646</th>\n",
       "      <td>Meghana Travels</td>\n",
       "      <td>A/C Sleeper (2+1)</td>\n",
       "      <td>21:50</td>\n",
       "      <td>04:30</td>\n",
       "      <td>06h 40m</td>\n",
       "      <td>INR 1499</td>\n",
       "      <td>1 Seat available</td>\n",
       "      <td>2.3\\n15</td>\n",
       "      <td>https://www.redbus.in/bus-tickets/hyderabad-to...</td>\n",
       "      <td>Hyderabad to Nandyal</td>\n",
       "      <td>Andhra Pradesh</td>\n",
       "    </tr>\n",
       "    <tr>\n",
       "      <th>7647</th>\n",
       "      <td>VEGA BUS</td>\n",
       "      <td>A/C Sleeper (2+1)</td>\n",
       "      <td>22:15</td>\n",
       "      <td>05:30</td>\n",
       "      <td>07h 15m</td>\n",
       "      <td>3325</td>\n",
       "      <td>3 Seats available</td>\n",
       "      <td>2.5</td>\n",
       "      <td>https://www.redbus.in/bus-tickets/hyderabad-to...</td>\n",
       "      <td>Hyderabad to Nandyal</td>\n",
       "      <td>Andhra Pradesh</td>\n",
       "    </tr>\n",
       "  </tbody>\n",
       "</table>\n",
       "<p>7648 rows × 11 columns</p>\n",
       "</div>"
      ],
      "text/plain": [
       "                    Busname                                          Bustype  \\\n",
       "0       KSRTC (Kerala) - 51                Swift Deluxe Non AC Air Bus (2+2)   \n",
       "1      KSRTC (Kerala) - 789                   Super Fast Non AC Seater (2+3)   \n",
       "2     KSRTC (Kerala) - 1585                Swift Deluxe Non AC Air Bus (2+2)   \n",
       "3     KSRTC (Kerala) - 1586                Swift Deluxe Non AC Air Bus (2+2)   \n",
       "4     KSRTC (Kerala) - 2133                Swift Deluxe Non AC Air Bus (2+2)   \n",
       "...                     ...                                              ...   \n",
       "7643               True Bus  Volvo Multi Axle A/C Sleeper I-Shift B11R (2+1)   \n",
       "7644    SREE LEKYAA TRAVELS                            NON A/C Sleeper (2+1)   \n",
       "7645      Dharshini Travels                   Non A/C Seater / Sleeper (2+1)   \n",
       "7646        Meghana Travels                                A/C Sleeper (2+1)   \n",
       "7647               VEGA BUS                                A/C Sleeper (2+1)   \n",
       "\n",
       "     Departing_time Reaching_time Duration     Price     Seats_available  \\\n",
       "0             19:00         04:30  09h 30m   INR 640  22 Seats available   \n",
       "1             20:00         03:45  07h 45m   INR 473  14 Seats available   \n",
       "2             20:40         06:10  09h 30m   INR 640  10 Seats available   \n",
       "3             21:30         06:55  09h 25m   INR 640    1 Seat available   \n",
       "4             22:10         07:35  09h 25m   INR 640    1 Seat available   \n",
       "...             ...           ...      ...       ...                 ...   \n",
       "7643          22:30         04:30  06h 00m  INR 1999  36 Seats available   \n",
       "7644          21:35         03:30  05h 55m       712  22 Seats available   \n",
       "7645          21:00         04:37  07h 37m       356   9 Seats available   \n",
       "7646          21:50         04:30  06h 40m  INR 1499    1 Seat available   \n",
       "7647          22:15         05:30  07h 15m      3325   3 Seats available   \n",
       "\n",
       "     Star_rating                                        Route_links  \\\n",
       "0        3.9\\n43  https://www.redbus.in/bus-tickets/bangalore-to...   \n",
       "1        3.8\\n85  https://www.redbus.in/bus-tickets/bangalore-to...   \n",
       "2        3.5\\n64  https://www.redbus.in/bus-tickets/bangalore-to...   \n",
       "3        3.1\\n39  https://www.redbus.in/bus-tickets/bangalore-to...   \n",
       "4        4.3\\n27  https://www.redbus.in/bus-tickets/bangalore-to...   \n",
       "...          ...                                                ...   \n",
       "7643         2.8  https://www.redbus.in/bus-tickets/hyderabad-to...   \n",
       "7644         1.7  https://www.redbus.in/bus-tickets/hyderabad-to...   \n",
       "7645      2.5\\n9  https://www.redbus.in/bus-tickets/hyderabad-to...   \n",
       "7646     2.3\\n15  https://www.redbus.in/bus-tickets/hyderabad-to...   \n",
       "7647         2.5  https://www.redbus.in/bus-tickets/hyderabad-to...   \n",
       "\n",
       "                 Route_names      State_name  \n",
       "0     Bangalore to Kozhikode          Kerala  \n",
       "1     Bangalore to Kozhikode          Kerala  \n",
       "2     Bangalore to Kozhikode          Kerala  \n",
       "3     Bangalore to Kozhikode          Kerala  \n",
       "4     Bangalore to Kozhikode          Kerala  \n",
       "...                      ...             ...  \n",
       "7643    Hyderabad to Nandyal  Andhra Pradesh  \n",
       "7644    Hyderabad to Nandyal  Andhra Pradesh  \n",
       "7645    Hyderabad to Nandyal  Andhra Pradesh  \n",
       "7646    Hyderabad to Nandyal  Andhra Pradesh  \n",
       "7647    Hyderabad to Nandyal  Andhra Pradesh  \n",
       "\n",
       "[7648 rows x 11 columns]"
      ]
     },
     "execution_count": 3,
     "metadata": {},
     "output_type": "execute_result"
    }
   ],
   "source": [
    "import pandas as pd\n",
    "\n",
    "Final_df = pd.read_csv('df_fullbusdetails.csv')\n",
    "Final_df"
   ]
  },
  {
   "cell_type": "code",
   "execution_count": 4,
   "metadata": {},
   "outputs": [
    {
     "name": "stdout",
     "output_type": "stream",
     "text": [
      "<class 'pandas.core.frame.DataFrame'>\n",
      "RangeIndex: 7648 entries, 0 to 7647\n",
      "Data columns (total 11 columns):\n",
      " #   Column           Non-Null Count  Dtype \n",
      "---  ------           --------------  ----- \n",
      " 0   Busname          7648 non-null   object\n",
      " 1   Bustype          7648 non-null   object\n",
      " 2   Departing_time   7648 non-null   object\n",
      " 3   Reaching_time    7648 non-null   object\n",
      " 4   Duration         7648 non-null   object\n",
      " 5   Price            7648 non-null   object\n",
      " 6   Seats_available  7648 non-null   object\n",
      " 7   Star_rating      7648 non-null   object\n",
      " 8   Route_links      7648 non-null   object\n",
      " 9   Route_names      7648 non-null   object\n",
      " 10  State_name       7648 non-null   object\n",
      "dtypes: object(11)\n",
      "memory usage: 657.4+ KB\n"
     ]
    }
   ],
   "source": [
    "Final_df.info()"
   ]
  },
  {
   "cell_type": "code",
   "execution_count": 5,
   "metadata": {},
   "outputs": [
    {
     "data": {
      "text/plain": [
       "0        640.0\n",
       "1        473.0\n",
       "2        640.0\n",
       "3        640.0\n",
       "4        640.0\n",
       "         ...  \n",
       "7643    1999.0\n",
       "7644     712.0\n",
       "7645     356.0\n",
       "7646    1499.0\n",
       "7647    3325.0\n",
       "Name: Price, Length: 7648, dtype: float64"
      ]
     },
     "execution_count": 5,
     "metadata": {},
     "output_type": "execute_result"
    }
   ],
   "source": [
    "Final_df[\"Price\"]=Final_df[\"Price\"].str.replace(\"INR\",\"\")\n",
    "Final_df[\"Price\"]=Final_df[\"Price\"].astype(float)\n",
    "Final_df[\"Price\"].fillna(0) "
   ]
  },
  {
   "cell_type": "code",
   "execution_count": 6,
   "metadata": {},
   "outputs": [
    {
     "name": "stderr",
     "output_type": "stream",
     "text": [
      "C:\\Users\\DELL\\AppData\\Local\\Temp\\ipykernel_9236\\204255246.py:5: FutureWarning: A value is trying to be set on a copy of a DataFrame or Series through chained assignment using an inplace method.\n",
      "The behavior will change in pandas 3.0. This inplace method will never work because the intermediate object on which we are setting values always behaves as a copy.\n",
      "\n",
      "For example, when doing 'df[col].method(value, inplace=True)', try using 'df.method({col: value}, inplace=True)' or df[col] = df[col].method(value) instead, to perform the operation inplace on the original object.\n",
      "\n",
      "\n",
      "  Final_df[\"Star_rating\"].fillna(0,inplace=True)\n"
     ]
    }
   ],
   "source": [
    "Final_df[\"Star_rating\"]=Final_df[\"Star_rating\"].str.replace(\"New\",\"\")\n",
    "Final_df[\"Star_rating\"]=Final_df[\"Star_rating\"].str.strip()\n",
    "Final_df[\"Star_rating\"]=Final_df[\"Star_rating\"].str.split().str[0]\n",
    "Final_df[\"Star_rating\"] = pd.to_numeric(Final_df[\"Star_rating\"], errors='coerce')\n",
    "Final_df[\"Star_rating\"].fillna(0,inplace=True) "
   ]
  },
  {
   "cell_type": "code",
   "execution_count": 7,
   "metadata": {},
   "outputs": [
    {
     "name": "stdout",
     "output_type": "stream",
     "text": [
      "<class 'pandas.core.frame.DataFrame'>\n",
      "RangeIndex: 7648 entries, 0 to 7647\n",
      "Data columns (total 11 columns):\n",
      " #   Column           Non-Null Count  Dtype  \n",
      "---  ------           --------------  -----  \n",
      " 0   Busname          7648 non-null   object \n",
      " 1   Bustype          7648 non-null   object \n",
      " 2   Departing_time   7648 non-null   object \n",
      " 3   Reaching_time    7648 non-null   object \n",
      " 4   Duration         7648 non-null   object \n",
      " 5   Price            7648 non-null   float64\n",
      " 6   Seats_available  7648 non-null   object \n",
      " 7   Star_rating      7648 non-null   float64\n",
      " 8   Route_links      7648 non-null   object \n",
      " 9   Route_names      7648 non-null   object \n",
      " 10  State_name       7648 non-null   object \n",
      "dtypes: float64(2), object(9)\n",
      "memory usage: 657.4+ KB\n"
     ]
    }
   ],
   "source": [
    "Final_df.info()"
   ]
  },
  {
   "cell_type": "code",
   "execution_count": 8,
   "metadata": {},
   "outputs": [],
   "source": [
    "Final_df = Final_df[Final_df[\"Price\"] <= 7000]"
   ]
  },
  {
   "cell_type": "code",
   "execution_count": 9,
   "metadata": {},
   "outputs": [],
   "source": [
    "import numpy as np\n",
    "Final_df = Final_df.replace({np.nan: None})"
   ]
  },
  {
   "cell_type": "code",
   "execution_count": 10,
   "metadata": {},
   "outputs": [
    {
     "name": "stdout",
     "output_type": "stream",
     "text": [
      "0\n",
      "0\n"
     ]
    }
   ],
   "source": [
    "print(Final_df['Bustype'].isnull().sum()) \n",
    "Final_df['Bustype'] = Final_df['Bustype'].fillna('Unknown')\n",
    "print(Final_df['Bustype'].isnull().sum()) "
   ]
  },
  {
   "cell_type": "code",
   "execution_count": 11,
   "metadata": {},
   "outputs": [
    {
     "name": "stdout",
     "output_type": "stream",
     "text": [
      "<class 'pandas.core.frame.DataFrame'>\n",
      "Index: 7643 entries, 0 to 7647\n",
      "Data columns (total 11 columns):\n",
      " #   Column           Non-Null Count  Dtype  \n",
      "---  ------           --------------  -----  \n",
      " 0   Busname          7643 non-null   object \n",
      " 1   Bustype          7643 non-null   object \n",
      " 2   Departing_time   7643 non-null   object \n",
      " 3   Reaching_time    7643 non-null   object \n",
      " 4   Duration         7643 non-null   object \n",
      " 5   Price            7643 non-null   float64\n",
      " 6   Seats_available  7643 non-null   object \n",
      " 7   Star_rating      7643 non-null   float64\n",
      " 8   Route_links      7643 non-null   object \n",
      " 9   Route_names      7643 non-null   object \n",
      " 10  State_name       7643 non-null   object \n",
      "dtypes: float64(2), object(9)\n",
      "memory usage: 716.5+ KB\n"
     ]
    }
   ],
   "source": [
    "Final_df.info()"
   ]
  },
  {
   "cell_type": "code",
   "execution_count": 12,
   "metadata": {},
   "outputs": [],
   "source": [
    "# Replace all None/NaN values with default values, for example, 0 or 'Unknown' for string columns\n",
    "Final_df = Final_df.fillna({'Seats_available': 0, 'Bus_type': 'Unknown'})"
   ]
  },
  {
   "cell_type": "code",
   "execution_count": 13,
   "metadata": {},
   "outputs": [
    {
     "name": "stdout",
     "output_type": "stream",
     "text": [
      "<class 'pandas.core.frame.DataFrame'>\n",
      "Index: 7643 entries, 0 to 7647\n",
      "Data columns (total 11 columns):\n",
      " #   Column           Non-Null Count  Dtype  \n",
      "---  ------           --------------  -----  \n",
      " 0   Busname          7643 non-null   object \n",
      " 1   Bustype          7643 non-null   object \n",
      " 2   Departing_time   7643 non-null   object \n",
      " 3   Reaching_time    7643 non-null   object \n",
      " 4   Duration         7643 non-null   object \n",
      " 5   Price            7643 non-null   float64\n",
      " 6   Seats_available  7643 non-null   object \n",
      " 7   Star_rating      7643 non-null   float64\n",
      " 8   Route_links      7643 non-null   object \n",
      " 9   Route_names      7643 non-null   object \n",
      " 10  State_name       7643 non-null   object \n",
      "dtypes: float64(2), object(9)\n",
      "memory usage: 716.5+ KB\n"
     ]
    }
   ],
   "source": [
    "Final_df.info()"
   ]
  },
  {
   "cell_type": "code",
   "execution_count": 14,
   "metadata": {},
   "outputs": [
    {
     "name": "stdout",
     "output_type": "stream",
     "text": [
      "                 Busname                                    Bustype  \\\n",
      "0    KSRTC (Kerala) - 51          Swift Deluxe Non AC Air Bus (2+2)   \n",
      "1   KSRTC (Kerala) - 789             Super Fast Non AC Seater (2+3)   \n",
      "2  KSRTC (Kerala) - 1585          Swift Deluxe Non AC Air Bus (2+2)   \n",
      "3  KSRTC (Kerala) - 1586          Swift Deluxe Non AC Air Bus (2+2)   \n",
      "4  KSRTC (Kerala) - 2133          Swift Deluxe Non AC Air Bus (2+2)   \n",
      "5  KSRTC (Kerala) - 2063                SWIFT-GARUDA A/C SEATER BUS   \n",
      "6   KSRTC (Kerala) - 574  Super Express Non AC Seater Air Bus (2+2)   \n",
      "7   KSRTC (Kerala) - 583  Super Express Non AC Seater Air Bus (2+2)   \n",
      "8    KSRTC (Kerala) - 56                SWIFT-GARUDA A/C SEATER BUS   \n",
      "9          Kyros Connect         Bharat Benz A/C Semi Sleeper (2+2)   \n",
      "\n",
      "  Departing_time Reaching_time Duration  Price     Seats_available  \\\n",
      "0          19:00         04:30  09h 30m  640.0  22 Seats available   \n",
      "1          20:00         03:45  07h 45m  473.0  14 Seats available   \n",
      "2          20:40         06:10  09h 30m  640.0  10 Seats available   \n",
      "3          21:30         06:55  09h 25m  640.0    1 Seat available   \n",
      "4          22:10         07:35  09h 25m  640.0    1 Seat available   \n",
      "5          22:30         06:00  07h 30m  627.0    1 Seat available   \n",
      "6          23:00         09:40  10h 40m  469.0   3 Seats available   \n",
      "7          23:30         09:50  10h 20m  469.0   5 Seats available   \n",
      "8          23:40         10:00  10h 20m  627.0  22 Seats available   \n",
      "9          23:00         09:00  10h 00m  599.0  31 Seats available   \n",
      "\n",
      "   Star_rating                                        Route_links  \\\n",
      "0          3.9  https://www.redbus.in/bus-tickets/bangalore-to...   \n",
      "1          3.8  https://www.redbus.in/bus-tickets/bangalore-to...   \n",
      "2          3.5  https://www.redbus.in/bus-tickets/bangalore-to...   \n",
      "3          3.1  https://www.redbus.in/bus-tickets/bangalore-to...   \n",
      "4          4.3  https://www.redbus.in/bus-tickets/bangalore-to...   \n",
      "5          3.9  https://www.redbus.in/bus-tickets/bangalore-to...   \n",
      "6          3.4  https://www.redbus.in/bus-tickets/bangalore-to...   \n",
      "7          3.4  https://www.redbus.in/bus-tickets/bangalore-to...   \n",
      "8          3.5  https://www.redbus.in/bus-tickets/bangalore-to...   \n",
      "9          4.1  https://www.redbus.in/bus-tickets/bangalore-to...   \n",
      "\n",
      "              Route_names State_name  \n",
      "0  Bangalore to Kozhikode     Kerala  \n",
      "1  Bangalore to Kozhikode     Kerala  \n",
      "2  Bangalore to Kozhikode     Kerala  \n",
      "3  Bangalore to Kozhikode     Kerala  \n",
      "4  Bangalore to Kozhikode     Kerala  \n",
      "5  Bangalore to Kozhikode     Kerala  \n",
      "6  Bangalore to Kozhikode     Kerala  \n",
      "7  Bangalore to Kozhikode     Kerala  \n",
      "8  Bangalore to Kozhikode     Kerala  \n",
      "9  Bangalore to Kozhikode     Kerala  \n"
     ]
    }
   ],
   "source": [
    "print(Final_df.head(10))"
   ]
  },
  {
   "cell_type": "code",
   "execution_count": 15,
   "metadata": {},
   "outputs": [
    {
     "name": "stdout",
     "output_type": "stream",
     "text": [
      "0    22\n",
      "1    14\n",
      "2    10\n",
      "3     1\n",
      "4     1\n",
      "Name: Seats_available, dtype: int64\n"
     ]
    },
    {
     "name": "stderr",
     "output_type": "stream",
     "text": [
      "<>:4: SyntaxWarning: invalid escape sequence '\\d'\n",
      "<>:4: SyntaxWarning: invalid escape sequence '\\d'\n",
      "C:\\Users\\DELL\\AppData\\Local\\Temp\\ipykernel_9236\\2638303160.py:4: SyntaxWarning: invalid escape sequence '\\d'\n",
      "  Final_df['Seats_available'] = Final_df['Seats_available'].str.extract('(\\d+)')  # Extract numbers\n"
     ]
    }
   ],
   "source": [
    "import pandas as pd\n",
    "\n",
    "# Remove the text and extract the number\n",
    "Final_df['Seats_available'] = Final_df['Seats_available'].str.extract('(\\d+)')  # Extract numbers\n",
    "\n",
    "# Convert the extracted string to a float (coerce any errors to NaN)\n",
    "Final_df['Seats_available'] = pd.to_numeric(Final_df['Seats_available'], errors='coerce')\n",
    "\n",
    "# Replace NaN values with a default value (e.g., 0)\n",
    "Final_df['Seats_available'] = Final_df['Seats_available'].fillna(0).astype(int)\n",
    "\n",
    "# Check the result\n",
    "print(Final_df['Seats_available'].head())\n"
   ]
  },
  {
   "cell_type": "code",
   "execution_count": 16,
   "metadata": {},
   "outputs": [
    {
     "name": "stdout",
     "output_type": "stream",
     "text": [
      "<class 'pandas.core.frame.DataFrame'>\n",
      "Index: 7643 entries, 0 to 7647\n",
      "Data columns (total 11 columns):\n",
      " #   Column           Non-Null Count  Dtype  \n",
      "---  ------           --------------  -----  \n",
      " 0   Busname          7643 non-null   object \n",
      " 1   Bustype          7643 non-null   object \n",
      " 2   Departing_time   7643 non-null   object \n",
      " 3   Reaching_time    7643 non-null   object \n",
      " 4   Duration         7643 non-null   object \n",
      " 5   Price            7643 non-null   float64\n",
      " 6   Seats_available  7643 non-null   int64  \n",
      " 7   Star_rating      7643 non-null   float64\n",
      " 8   Route_links      7643 non-null   object \n",
      " 9   Route_names      7643 non-null   object \n",
      " 10  State_name       7643 non-null   object \n",
      "dtypes: float64(2), int64(1), object(8)\n",
      "memory usage: 716.5+ KB\n"
     ]
    }
   ],
   "source": [
    "Final_df.info()"
   ]
  },
  {
   "cell_type": "code",
   "execution_count": 17,
   "metadata": {},
   "outputs": [
    {
     "name": "stdout",
     "output_type": "stream",
     "text": [
      "Database Created successfully\n"
     ]
    }
   ],
   "source": [
    "import mysql.connector\n",
    "connection = mysql.connector.connect(\n",
    "    host=\"localhost\",\n",
    "    user=\"root\",\n",
    "    password=\"123456789\",   \n",
    ")\n",
    "cursor = connection.cursor()\n",
    "cursor.execute(\"CREATE DATABASE REDBUS\")\n",
    "print(\"Database Created successfully\")"
   ]
  },
  {
   "cell_type": "code",
   "execution_count": 18,
   "metadata": {},
   "outputs": [
    {
     "name": "stdout",
     "output_type": "stream",
     "text": [
      "Table Created successfully\n"
     ]
    }
   ],
   "source": [
    "import mysql.connector\n",
    "connection = mysql.connector.connect(\n",
    "    host=\"localhost\",\n",
    "    user=\"root\",\n",
    "    password=\"123456789\",\n",
    "    database=\"REDBUS\" \n",
    ")\n",
    "cursor = connection.cursor()\n",
    "cursor.execute(\"\"\"CREATE TABLE busdetails(\n",
    "    Id INTEGER PRIMARY KEY AUTO_INCREMENT,\n",
    "    Route_names VARCHAR(255) NOT NULL,\n",
    "    Route_links VARCHAR(255) NOT NULL,\n",
    "    Busname VARCHAR(255) NOT NULL,\n",
    "    Bustype VARCHAR(255) NOT NULL,\n",
    "    Departing_time VARCHAR(255) NOT NULL,\n",
    "    Reaching_time VARCHAR(255) NOT NULL,\n",
    "    Duration VARCHAR(255) NOT NULL,\n",
    "    Star_rating FLOAT NOT NULL,\n",
    "    Price FLOAT NOT NULL,\n",
    "    Seats_available INT NOT NULL,\n",
    "    State_name VARCHAR(255) NOT NULL)\"\"\")\n",
    "print(\"Table Created successfully\")"
   ]
  },
  {
   "cell_type": "code",
   "execution_count": 19,
   "metadata": {},
   "outputs": [
    {
     "name": "stdout",
     "output_type": "stream",
     "text": [
      "Values inserted successfully\n"
     ]
    }
   ],
   "source": [
    "insert_query = ('''INSERT INTO busdetails(Busname,Bustype,Departing_time,Reaching_time,Duration,Price,Seats_Available,Star_rating,Route_links,Route_names,State_name)VALUES(%s, %s, %s, %s, %s, %s, %s, %s, %s, %s, %s)''')\n",
    "data =Final_df.values.tolist()\n",
    "try:\n",
    "    cursor.executemany(insert_query, data)\n",
    "    connection.commit()\n",
    "    print(\"Values inserted successfully\")\n",
    "except Exception as e:\n",
    "    print(f\"Error: {e}\")"
   ]
  }
 ],
 "metadata": {
  "kernelspec": {
   "display_name": ".venv",
   "language": "python",
   "name": "python3"
  },
  "language_info": {
   "codemirror_mode": {
    "name": "ipython",
    "version": 3
   },
   "file_extension": ".py",
   "mimetype": "text/x-python",
   "name": "python",
   "nbconvert_exporter": "python",
   "pygments_lexer": "ipython3",
   "version": "3.12.2"
  }
 },
 "nbformat": 4,
 "nbformat_minor": 2
}
